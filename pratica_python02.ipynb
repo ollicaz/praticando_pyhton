{
  "nbformat": 4,
  "nbformat_minor": 0,
  "metadata": {
    "colab": {
      "provenance": []
    },
    "kernelspec": {
      "name": "python3",
      "display_name": "Python 3"
    },
    "language_info": {
      "name": "python"
    }
  },
  "cells": [
    {
      "cell_type": "markdown",
      "source": [
        "Estruturas condicionais"
      ],
      "metadata": {
        "id": "trS5Wxj1O5d_"
      }
    },
    {
      "cell_type": "code",
      "execution_count": 3,
      "metadata": {
        "colab": {
          "base_uri": "https://localhost:8080/"
        },
        "id": "dG1hhfHPOxQb",
        "outputId": "56f48732-6d87-4bb1-e463-c4b18e0ebfdb"
      },
      "outputs": [
        {
          "output_type": "stream",
          "name": "stdout",
          "text": [
            "Insira um número: 4\n",
            "Insira outro número: 9\n",
            "O número 9 é maior que o número 4\n"
          ]
        }
      ],
      "source": [
        "numero1 = int(input('Insira um número: '))\n",
        "numero2 = int(input('Insira outro número: '))\n",
        "\n",
        "if numero1 > numero2:\n",
        "  print(f'O número {numero1} é maior que o número {numero2}')\n",
        "elif numero1 == numero2:\n",
        "  print(f'O número {numero1} é igual ao número {numero2}')\n",
        "else:\n",
        "  print(f'O número {numero2} é maior que o número {numero1}')"
      ]
    },
    {
      "cell_type": "code",
      "source": [
        "crescimento = int(input('Insira o crescimento da empresa'))\n",
        "\n",
        "if crescimento > 0:\n",
        "  print(f'A empresa cresceu {crescimento}%')\n",
        "else:\n",
        "  print(f'A empresa decresceu {crescimento}%')"
      ],
      "metadata": {
        "colab": {
          "base_uri": "https://localhost:8080/"
        },
        "id": "lpfvsItdO7u1",
        "outputId": "e41674de-f810-4ae3-cfe3-fc4cfe1faaac"
      },
      "execution_count": 5,
      "outputs": [
        {
          "output_type": "stream",
          "name": "stdout",
          "text": [
            "Insira o crescimento da empresa-8\n",
            "A empresa decresceu -8%\n"
          ]
        }
      ]
    },
    {
      "cell_type": "code",
      "source": [
        "letra = input('Digite uma letra: ')\n",
        "\n",
        "if letra == 'a' or letra == 'e' or letra == 'i' or letra == 'o' or letra == 'u':\n",
        "  print('É uma vogal')\n",
        "else:\n",
        "  print('É uma consoante')"
      ],
      "metadata": {
        "colab": {
          "base_uri": "https://localhost:8080/"
        },
        "id": "oq6ojVQXQRXx",
        "outputId": "d48345dc-be36-49d1-f204-88fffebf7df5"
      },
      "execution_count": 7,
      "outputs": [
        {
          "output_type": "stream",
          "name": "stdout",
          "text": [
            "Digite uma letra: e\n",
            "É uma vogal\n"
          ]
        }
      ]
    },
    {
      "cell_type": "code",
      "source": [
        "media1 = float(input('Insira uma média: '))\n",
        "media2 = float(input('Insira uma média: '))\n",
        "media3 = float(input('Insira uma média: '))\n",
        "\n",
        "if media1 > media2 and media1 > media3:\n",
        "  print(f'A média {media1} é a maior')\n",
        "elif media2 > media1 and media2 > media3:\n",
        "  print(f'A média {media2} é a maior')\n",
        "else:\n",
        "  print(f'A média {media3} é a maior')"
      ],
      "metadata": {
        "colab": {
          "base_uri": "https://localhost:8080/"
        },
        "id": "DHnSll1bQsmN",
        "outputId": "8dc34b0a-2bd3-425c-cfd3-ac2b96e3fc66"
      },
      "execution_count": 10,
      "outputs": [
        {
          "output_type": "stream",
          "name": "stdout",
          "text": [
            "Insira uma média: 8\n",
            "Insira uma média: 9\n",
            "Insira uma média: 20\n",
            "A média 20.0 é a maior\n"
          ]
        }
      ]
    },
    {
      "cell_type": "code",
      "source": [
        "produto1 = float(input('Insira o preço do produto'))\n",
        "produto2 = float(input('Insira o preço do produto'))\n",
        "produto3 = float(input('Insira o preço do produto'))\n",
        "\n",
        "if produto1 < produto2 and produto1 < produto3:\n",
        "  print('O produto 1 é mais barato')\n",
        "elif produto2 < produto1 and produto2 < produto3:\n",
        "  print('O produto 2 é mais barato')\n",
        "else:\n",
        "  print('O produto 3 é mais barato')"
      ],
      "metadata": {
        "colab": {
          "base_uri": "https://localhost:8080/"
        },
        "id": "bJkmJwEURf8B",
        "outputId": "23d55948-4293-4624-8e47-46af9ec9a525"
      },
      "execution_count": 11,
      "outputs": [
        {
          "output_type": "stream",
          "name": "stdout",
          "text": [
            "Insira o preço do produto5.50\n",
            "Insira o preço do produto6\n",
            "Insira o preço do produto2.35\n",
            "O produto 3 é mais barato\n"
          ]
        }
      ]
    },
    {
      "cell_type": "code",
      "source": [
        "numero1 = int(input('Digite um número: '))\n",
        "numero2 = int(input('Digite um número: '))\n",
        "numero3 = int(input('Digite um número: '))\n",
        "\n",
        "if numero1 > numero2 and numero2 > numero3:\n",
        "  print(numero1, numero2, numero3)\n",
        "elif numero3 > numero2 and numero2 > numero1:\n",
        "  print(numero3, numero2, numero1)\n",
        "elif numero2 > numero1 and numero1 > numero3:\n",
        "  print(numero2, numero1, numero3)\n",
        "elif numero1 > numero3 and numero3 > numero2:\n",
        "  print(numero1, numero3, numero2)\n",
        "elif numero3 > numero1 and numero1 > numero2:\n",
        "  print(numero3, numero1, numero2)\n",
        "else:\n",
        "  print(numero2, numero3, numero1)"
      ],
      "metadata": {
        "colab": {
          "base_uri": "https://localhost:8080/"
        },
        "id": "TtXCeOKUSLvz",
        "outputId": "ec330957-8e70-4032-a724-8a4260b9d71a"
      },
      "execution_count": 12,
      "outputs": [
        {
          "output_type": "stream",
          "name": "stdout",
          "text": [
            "Digite um número: 5\n",
            "Digite um número: 8\n",
            "Digite um número: 1\n",
            "8 5 1\n"
          ]
        }
      ]
    },
    {
      "cell_type": "code",
      "source": [
        "turno = input('Em qual turno você estuda? ')\n",
        "\n",
        "if turno == 'manhã':\n",
        "  print('Bom dia!')\n",
        "elif turno == 'tarde':\n",
        "  print('Boa tarde!')\n",
        "elif turno == 'noite':\n",
        "  print('Boa noite!')\n",
        "else:\n",
        "  print('Valor inválido')"
      ],
      "metadata": {
        "colab": {
          "base_uri": "https://localhost:8080/"
        },
        "id": "-bzZB11_UGrR",
        "outputId": "4b8f2589-c2da-4bb6-c87d-d6c44a3090b8"
      },
      "execution_count": 15,
      "outputs": [
        {
          "output_type": "stream",
          "name": "stdout",
          "text": [
            "Em qual turno você estuda? horizonte\n",
            "Valor inválido\n"
          ]
        }
      ]
    },
    {
      "cell_type": "code",
      "source": [
        "numero = int(input('Digite um número:'))\n",
        "\n",
        "if numero % 2 == 0:\n",
        "  print(f'O número {numero} é par')\n",
        "else:\n",
        "  print(f'O número {numero} é ímpar')"
      ],
      "metadata": {
        "colab": {
          "base_uri": "https://localhost:8080/"
        },
        "id": "W01CFyHhU8y3",
        "outputId": "ef2274ae-678b-479a-d069-f43dcb5be0da"
      },
      "execution_count": 17,
      "outputs": [
        {
          "output_type": "stream",
          "name": "stdout",
          "text": [
            "Digite um número:456321557865458\n",
            "O número 456321557865458 é par\n"
          ]
        }
      ]
    },
    {
      "cell_type": "code",
      "source": [
        "numero = (input('Digite um número: '))\n",
        "\n",
        "if numero == int:\n",
        "  print(f'O número {numero} é um inteiro')\n",
        "else:\n",
        "  print(f'O número {numero} é um decimal')"
      ],
      "metadata": {
        "colab": {
          "base_uri": "https://localhost:8080/"
        },
        "id": "7ViTYgwdVPVE",
        "outputId": "badb33bd-d3f5-46f1-a0ea-4d8239f8dab8"
      },
      "execution_count": 22,
      "outputs": [
        {
          "output_type": "stream",
          "name": "stdout",
          "text": [
            "Digite um número: 7.0\n",
            "O número 7.0 é um decimal\n"
          ]
        }
      ]
    },
    {
      "cell_type": "markdown",
      "source": [
        "10) Um programa deve ser escrito para ler dois números e, em seguida, perguntar à pessoa usuária qual operação ele deseja realizar. O resultado da operação deve incluir informações sobre o número - se é par ou ímpar, positivo ou negativo e inteiro ou decimal."
      ],
      "metadata": {
        "id": "0DvkbHBKWhen"
      }
    },
    {
      "cell_type": "code",
      "source": [
        "numero1 = input('Digite um número: ')\n",
        "numero2 = input('Digite outro número: ')\n",
        "calculo = input('Qual operação deseja fazer? (+_*/)')\n",
        "\n",
        "numero1 = float(numero1)\n",
        "numero2 = float(numero2)\n",
        "\n",
        "if calculo == '+':\n",
        "  resultado = numero1 + numero2\n",
        "  print('numero1 + numero2 = ', resultado)\n",
        "elif calculo == '-':\n",
        "  resultado = numero1 - numero2\n",
        "  print('numero1 - numero2 = ', resultado)\n",
        "elif calculo == '*':\n",
        "  resultado = numero1 * numero2\n",
        "  print('numero1 * numero2 = ', resultado)\n",
        "else:\n",
        "  resultado = numero1 / numero2\n",
        "  print('numero1 / numero2 = ', resultado)\n",
        "\n",
        "if resultado % 2 == 0:\n",
        "  print('Este número é par')\n",
        "else:\n",
        "  print('Este número é ímpar')\n",
        "\n",
        "if resultado > 0:\n",
        "  print('É um número positivo')\n",
        "else:\n",
        "  print('É um número negativo')\n",
        "\n",
        "if resultado % 1 == 0:\n",
        "  print('É um número inteiro')\n",
        "else:\n",
        "  print('É um número decimal')"
      ],
      "metadata": {
        "colab": {
          "base_uri": "https://localhost:8080/"
        },
        "id": "xTFIqfBUVvA3",
        "outputId": "997fb897-4141-43f8-d07a-4b8f2a9fbbc6"
      },
      "execution_count": 40,
      "outputs": [
        {
          "output_type": "stream",
          "name": "stdout",
          "text": [
            "Digite um número: 5\n",
            "Digite outro número: 2\n",
            "Qual operação deseja fazer? (+_*/)/\n",
            "numero1 / numero2 =  2.5\n",
            "Este número é ímpar\n",
            "É um número positivo\n",
            "É um número decimal\n"
          ]
        }
      ]
    },
    {
      "cell_type": "markdown",
      "source": [
        "Escreva um programa que peça à pessoa usuária três números que representam os lados de um triângulo. O programa deve informar se os valores podem ser utilizados para formar um triângulo e, caso afirmativo, se ele é equilátero, isósceles ou escaleno. Tenha em mente algumas dicas:"
      ],
      "metadata": {
        "id": "-ln1qDK6Zqqs"
      }
    },
    {
      "cell_type": "code",
      "source": [
        "lado1 = int(input('Digite o lado 1: '))\n",
        "lado2 = int(input('Digite o lado 2: '))\n",
        "lado3 = int(input('Digite o lado 3: '))\n",
        "\n",
        "if lado1 == lado2 == lado3:\n",
        "  print('Este é um triâmgulo equilátero')\n",
        "elif lado1 == lado2 or lado1 == lado3 or lado2 == lado3:\n",
        "  print('Este triângulo é isósceles')\n",
        "else:\n",
        "  print('Este triângulo é escaleno')"
      ],
      "metadata": {
        "colab": {
          "base_uri": "https://localhost:8080/"
        },
        "id": "mhnClNZKXpVg",
        "outputId": "e8b24360-0541-4f2e-e0ec-a342e69fc55b"
      },
      "execution_count": 30,
      "outputs": [
        {
          "output_type": "stream",
          "name": "stdout",
          "text": [
            "Digite o lado 1: 4\n",
            "Digite o lado 2: 2\n",
            "Digite o lado 3: 4\n",
            "Este triângulo é isósceles\n"
          ]
        }
      ]
    },
    {
      "cell_type": "markdown",
      "source": [
        " Um estabelecimento está vendendo combustíveis com descontos variados. Para o etanol, se a quantidade comprada for até 15 litros, o desconto será de 2% por litro. Caso contrário, será de 4% por litro. Para o diesel, se a quantidade comprada for até 15 litros, o desconto será de 3% por litro. Caso contrário, será de 5% por litro. O preço do litro de diesel é R$ 2,00 e o preço do litro de etanol é R$ 1,70. Escreva um programa que leia a quantidade de litros vendidos e o tipo de combustível (E para etanol e D para diesel) e calcule o valor a ser pago pelo cliente. Tenha em mente algumas dicas:\n",
        "\n",
        "O do valor do desconto será a multiplicação entre preço do litro, quantidade de litros e o valor do desconto.\n",
        "O valor a ser pago por um cliente será o resultado da multiplicação do preço do litro pela quantidade de litros menos o valor de desconto resultante do cálculo."
      ],
      "metadata": {
        "id": "wPwCwU06eJlA"
      }
    },
    {
      "cell_type": "code",
      "source": [
        "combustivel = float(input('Quantos litros de conbustível?'))\n",
        "tipo = input(' [e]tanol [d]iesel ')\n",
        "\n",
        "if tipo == 'e':\n",
        "  if combustivel <= 15:\n",
        "    desconto = 2/100\n",
        "  else:\n",
        "    desconto = 4/100\n",
        "  calculo_desconto = 1.70 * combustivel * desconto\n",
        "  valor_pago = 1.70 * combustivel - calculo_desconto\n",
        "  print(f'o seu desconto é de R$ {calculo_desconto}')\n",
        "  print(f'O valor pago será de R$ {valor_pago}')\n",
        "\n",
        "elif tipo == 'd':\n",
        "  if combustivel <= 15:\n",
        "    desconto = 3/100\n",
        "  else:\n",
        "    desconto = 5/100\n",
        "  calculo_desconto = 2.00 * combustivel * desconto\n",
        "  valor_pago = 2.00 * combustivel - calculo_desconto\n",
        "  print(f'o seu desconto é de R$ {calculo_desconto}')\n",
        "  print(f'O valor pago será de R$ {valor_pago}')"
      ],
      "metadata": {
        "colab": {
          "base_uri": "https://localhost:8080/"
        },
        "id": "Pewz65ZraW9r",
        "outputId": "24677c21-8d8c-458d-8cee-e2cad256a028"
      },
      "execution_count": 35,
      "outputs": [
        {
          "output_type": "stream",
          "name": "stdout",
          "text": [
            "Quantos litros de conbustível?20\n",
            " [e]tanol [d]iesel d\n",
            "o seu desconto é de R$ 2.0\n",
            "O valor pago será de R$ 38.0\n"
          ]
        }
      ]
    },
    {
      "cell_type": "markdown",
      "source": [
        "Em uma empresa de venda de imóveis você precisa criar um código que analise os dados de vendas anuais para ajudar a diretoria na tomada de decisão. O código precisa coletar os dados de quantidade de venda durante os anos de 2022 e 2023 e fazer um cálculo de variação percentual. A partir do valor da variação, deve ser enviada às seguintes sugestões:\n",
        "\n",
        "*Para variação acima de 20%: bonificação para o time de vendas.\n",
        "*Para variação entre 2% e 20%: pequena bonificação para time de vendas.\n",
        "*Para variação entre 2% e -10%: planejamento de políticas de incentivo às vendas.\n",
        "*Para bonificações abaixo de -10%: corte de gastos."
      ],
      "metadata": {
        "id": "wrL_cc5CeQb7"
      }
    },
    {
      "cell_type": "code",
      "source": [
        "variacao_2022 = int(input('Qual a variação? '))\n",
        "variacao_2023 = int(input('Qual a variação? '))\n",
        "\n",
        "variacao_percentual = (variacao_2023 - variacao_2022) / variacao_2022 * 1\n",
        "\n",
        "if variacao_percentual > 0.2:\n",
        "  print('Bonificação para o time de vendas')\n",
        "elif variacao_percentual >= 0.02 and variacao_percentual <= 0.2:\n",
        "  print('Pequena bonificação para o time de vendas')\n",
        "elif variacao_percentual <= 0.02 and variacao_percentual >= -0.1:\n",
        "  print('Planejamento de políticas de incentivo às vendas')\n",
        "else:\n",
        "  print('Corte de gastos')"
      ],
      "metadata": {
        "colab": {
          "base_uri": "https://localhost:8080/"
        },
        "id": "jhAIvqpabc22",
        "outputId": "fac15e0c-a45c-4d29-df0d-f85185052543"
      },
      "execution_count": 38,
      "outputs": [
        {
          "output_type": "stream",
          "name": "stdout",
          "text": [
            "Qual a variação? 80\n",
            "Qual a variação? 75\n",
            "Planejamento de políticas de incentivo às vendas\n"
          ]
        }
      ]
    },
    {
      "cell_type": "code",
      "source": [],
      "metadata": {
        "id": "xeT6VmbQgcpe"
      },
      "execution_count": null,
      "outputs": []
    }
  ]
}