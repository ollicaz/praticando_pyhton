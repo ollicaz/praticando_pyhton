{
  "nbformat": 4,
  "nbformat_minor": 0,
  "metadata": {
    "colab": {
      "provenance": []
    },
    "kernelspec": {
      "name": "python3",
      "display_name": "Python 3"
    },
    "language_info": {
      "name": "python"
    }
  },
  "cells": [
    {
      "cell_type": "markdown",
      "source": [
        "Variáveis numéricas"
      ],
      "metadata": {
        "id": "bwW1WCAHtaiG"
      }
    },
    {
      "cell_type": "code",
      "execution_count": 1,
      "metadata": {
        "colab": {
          "base_uri": "https://localhost:8080/"
        },
        "id": "EfIt6p2otRJo",
        "outputId": "9c018b5d-7567-4400-fe3c-76c23a3f4c4a"
      },
      "outputs": [
        {
          "output_type": "stream",
          "name": "stdout",
          "text": [
            "Digite seu nome: Olli\n",
            "Digite sua idade: 32\n",
            "Digite sua altura: 1.71\n",
            "Olá, Olli. Vi aqui aqui que você tem 32 anos e a sua altura é de 1.71 metros.\n"
          ]
        }
      ],
      "source": [
        "nome = input('Digite seu nome: ')\n",
        "idade = int(input('Digite sua idade: '))\n",
        "altura = float(input('Digite sua altura: '))\n",
        "\n",
        "print(f'Olá, {nome}. Vi aqui aqui que você tem {idade} anos e a sua altura é de {altura} metros.')"
      ]
    },
    {
      "cell_type": "code",
      "source": [
        "valor1 = int(input('Digite um valor: '))\n",
        "valor2 = int(input('Digite outro valor: '))\n",
        "\n",
        "print(f'{valor1} + {valor2} = ', valor1 + valor2)"
      ],
      "metadata": {
        "colab": {
          "base_uri": "https://localhost:8080/"
        },
        "id": "rSd3gJ60tclP",
        "outputId": "c8af367f-6d2a-49df-c785-99f065984347"
      },
      "execution_count": 2,
      "outputs": [
        {
          "output_type": "stream",
          "name": "stdout",
          "text": [
            "Digite um valor: 4\n",
            "Digite outro valor: 6\n",
            "4 + 6 =  10\n"
          ]
        }
      ]
    },
    {
      "cell_type": "code",
      "source": [
        "valor1 = int(input('Digite um valor: '))\n",
        "valor2 = int(input('Digite outro valor: '))\n",
        "\n",
        "print(f'{valor1} - {valor2} = ', valor1 - valor2)"
      ],
      "metadata": {
        "colab": {
          "base_uri": "https://localhost:8080/"
        },
        "id": "cJMkS5_5tqWT",
        "outputId": "1c6ab211-6394-48ab-d14d-62b2e61e1277"
      },
      "execution_count": 3,
      "outputs": [
        {
          "output_type": "stream",
          "name": "stdout",
          "text": [
            "Digite um valor: 4\n",
            "Digite outro valor: 8\n",
            "4 - 8 =  -4\n"
          ]
        }
      ]
    },
    {
      "cell_type": "code",
      "source": [
        "valor1 = int(input('Digite um valor: '))\n",
        "valor2 = int(input('Digite outro valor: '))\n",
        "\n",
        "print(f'{valor1} * {valor2} = ', valor1 * valor2)"
      ],
      "metadata": {
        "colab": {
          "base_uri": "https://localhost:8080/"
        },
        "id": "Kru48yTGtuV_",
        "outputId": "cbe8c699-6114-485f-d657-ffef3dd53749"
      },
      "execution_count": 4,
      "outputs": [
        {
          "output_type": "stream",
          "name": "stdout",
          "text": [
            "Digite um valor: 2\n",
            "Digite outro valor: 3\n",
            "2 * 3 =  6\n"
          ]
        }
      ]
    },
    {
      "cell_type": "code",
      "source": [
        "valor1 = int(input('Digite um valor: '))\n",
        "valor2 = int(input('Digite outro valor diferente de zero: '))\n",
        "\n",
        "print(f'{valor1} / {valor2} = ', valor1 / valor2)"
      ],
      "metadata": {
        "colab": {
          "base_uri": "https://localhost:8080/"
        },
        "id": "Zy5WwfzAtyAs",
        "outputId": "3b49aba9-f70f-4d92-e241-e2bfff391531"
      },
      "execution_count": 5,
      "outputs": [
        {
          "output_type": "stream",
          "name": "stdout",
          "text": [
            "Digite um valor: 8\n",
            "Digite outro valor diferente de zero: 4\n",
            "8 / 4 =  2.0\n"
          ]
        }
      ]
    },
    {
      "cell_type": "code",
      "source": [
        "valor1 = int(input('Digite um valor: '))\n",
        "valor2 = int(input('Digite a potência: '))\n",
        "\n",
        "print(f'{valor1} ** {valor2} = ', valor1 ** valor2)"
      ],
      "metadata": {
        "colab": {
          "base_uri": "https://localhost:8080/"
        },
        "id": "ZJN2C9hrt3xP",
        "outputId": "d740cc59-d679-4a68-ef3c-ce9c86ed1272"
      },
      "execution_count": 6,
      "outputs": [
        {
          "output_type": "stream",
          "name": "stdout",
          "text": [
            "Digite um valor: 5\n",
            "Digite a potência: 6\n",
            "5 ** 6 =  15625\n"
          ]
        }
      ]
    },
    {
      "cell_type": "code",
      "source": [
        "valor1 = int(input('Digite um valor: '))\n",
        "valor2 = int(input('Digite outro valor diferente de zero: '))\n",
        "\n",
        "print(f'{valor1} % {valor2} = ', valor1 % valor2)"
      ],
      "metadata": {
        "colab": {
          "base_uri": "https://localhost:8080/"
        },
        "id": "W8O8d0gPt8tU",
        "outputId": "cd3c5d50-7555-4919-dac4-f26fd058efb0"
      },
      "execution_count": 7,
      "outputs": [
        {
          "output_type": "stream",
          "name": "stdout",
          "text": [
            "Digite um valor: 10\n",
            "Digite outro valor diferente de zero: 5\n",
            "10 % 5 =  0\n"
          ]
        }
      ]
    },
    {
      "cell_type": "code",
      "source": [
        "valor1 = int(input('Digite um valor: '))\n",
        "valor2 = int(input('Digite outro valor diferente de zero: '))\n",
        "\n",
        "print(f'{valor1} // {valor2} = ', valor1 // valor2)"
      ],
      "metadata": {
        "colab": {
          "base_uri": "https://localhost:8080/"
        },
        "id": "w06KxngzuAER",
        "outputId": "69cd2c87-82dd-4c96-aecd-bcfa988924a5"
      },
      "execution_count": 8,
      "outputs": [
        {
          "output_type": "stream",
          "name": "stdout",
          "text": [
            "Digite um valor: 25\n",
            "Digite outro valor diferente de zero: 7\n",
            "25 // 7 =  3\n"
          ]
        }
      ]
    },
    {
      "cell_type": "code",
      "source": [
        "media1 = float(input('Insira uma média: '))\n",
        "media2 = float(input('Insira uma média: '))\n",
        "media3 = float(input('Insira uma média: '))\n",
        "\n",
        "media_final = media1 + media2 + media3 / 3\n",
        "\n",
        "print(f'A me´dia final é {media_final}')"
      ],
      "metadata": {
        "colab": {
          "base_uri": "https://localhost:8080/"
        },
        "id": "9CjNwAG6uD9H",
        "outputId": "28727696-d333-4b22-bc0e-409b2252e425"
      },
      "execution_count": 9,
      "outputs": [
        {
          "output_type": "stream",
          "name": "stdout",
          "text": [
            "Insira uma média: 6\n",
            "Insira uma média: 8\n",
            "Insira uma média: 7\n",
            "A me´dia final é 16.333333333333332\n"
          ]
        }
      ]
    },
    {
      "cell_type": "code",
      "source": [
        "media1 = float(input('Insira uma média: '))\n",
        "media2 = float(input('Insira uma média: '))\n",
        "media3 = float(input('Insira uma média: '))\n",
        "media4 = float(input('Insira uma média: '))\n",
        "\n",
        "media_ponderada = (media1 * 1 + media2 * 2 + media3 * 3 + media4 * 4) / 4\n",
        "\n",
        "print(f'A média ponderada é de {media_ponderada}')"
      ],
      "metadata": {
        "colab": {
          "base_uri": "https://localhost:8080/"
        },
        "id": "YaSp3k78uI5J",
        "outputId": "1ebe698f-6396-4dac-9a86-b8ac0c950cf4"
      },
      "execution_count": 10,
      "outputs": [
        {
          "output_type": "stream",
          "name": "stdout",
          "text": [
            "Insira uma média: 8\n",
            "Insira uma média: 7\n",
            "Insira uma média: 3\n",
            "Insira uma média: 4\n",
            "A média ponderada é de 11.75\n"
          ]
        }
      ]
    },
    {
      "cell_type": "markdown",
      "source": [
        "Strings"
      ],
      "metadata": {
        "id": "5C6hjxe5uPvT"
      }
    },
    {
      "cell_type": "code",
      "source": [
        "frase = input('Insira uma frase: ')\n",
        "print(frase)"
      ],
      "metadata": {
        "colab": {
          "base_uri": "https://localhost:8080/"
        },
        "id": "c8rEzO97uMUb",
        "outputId": "23dc5daf-bde5-4158-9264-22e54ed93b88"
      },
      "execution_count": 11,
      "outputs": [
        {
          "output_type": "stream",
          "name": "stdout",
          "text": [
            "Insira uma frase: Que dia nublado.\n",
            "Que dia nublado.\n"
          ]
        }
      ]
    },
    {
      "cell_type": "code",
      "source": [
        "frase = input('Insira uma frase: ')\n",
        "print(frase.upper())"
      ],
      "metadata": {
        "colab": {
          "base_uri": "https://localhost:8080/"
        },
        "id": "wDZ4pVC-uSsr",
        "outputId": "03c3f478-6dac-469c-adfe-425925d0edd2"
      },
      "execution_count": 12,
      "outputs": [
        {
          "output_type": "stream",
          "name": "stdout",
          "text": [
            "Insira uma frase: Mais um dia nublado.\n",
            "MAIS UM DIA NUBLADO.\n"
          ]
        }
      ]
    },
    {
      "cell_type": "code",
      "source": [
        "frase = input('Insira uma frase: ')\n",
        "print(frase.lower())"
      ],
      "metadata": {
        "colab": {
          "base_uri": "https://localhost:8080/"
        },
        "id": "YrM9gVf4uVu1",
        "outputId": "ade5e34b-56bf-4943-e0e7-3cdb54c97b2d"
      },
      "execution_count": 13,
      "outputs": [
        {
          "output_type": "stream",
          "name": "stdout",
          "text": [
            "Insira uma frase: MAIS UMA TENTATIVA.\n",
            "mais uma tentativa.\n"
          ]
        }
      ]
    },
    {
      "cell_type": "code",
      "source": [
        "frase = input('Insira uma frase: ')\n",
        "print(frase.strip())"
      ],
      "metadata": {
        "colab": {
          "base_uri": "https://localhost:8080/"
        },
        "id": "hoFLOcOpuZ22",
        "outputId": "602b656b-4c81-48a0-906f-923757dc7594"
      },
      "execution_count": 14,
      "outputs": [
        {
          "output_type": "stream",
          "name": "stdout",
          "text": [
            "Insira uma frase:     Será que os espaços vão desaparecer?                   \n",
            "Será que os espaços vão desaparecer?\n"
          ]
        }
      ]
    },
    {
      "cell_type": "code",
      "source": [
        "frase = input('Insira uma frase: ')\n",
        "print(frase.strip().lower())"
      ],
      "metadata": {
        "colab": {
          "base_uri": "https://localhost:8080/"
        },
        "id": "IP1B4aRvueVf",
        "outputId": "6e2fedfe-e9cd-4372-b644-d1a483943e26"
      },
      "execution_count": 15,
      "outputs": [
        {
          "output_type": "stream",
          "name": "stdout",
          "text": [
            "Insira uma frase: MAIS UMA VEZ\n",
            "mais uma vez\n"
          ]
        }
      ]
    },
    {
      "cell_type": "code",
      "source": [
        "frase = input('Insira uma frase: ')\n",
        "print(frase.replace('e', 'f'))"
      ],
      "metadata": {
        "colab": {
          "base_uri": "https://localhost:8080/"
        },
        "id": "xDjKjQ8Luj-q",
        "outputId": "1b1bb090-f0d5-44fc-e8b6-d588fce50217"
      },
      "execution_count": 16,
      "outputs": [
        {
          "output_type": "stream",
          "name": "stdout",
          "text": [
            "Insira uma frase: Testando para ver se todas as letras e serão trocadas.\n",
            "Tfstando para vfr sf todas as lftras f sfrão trocadas.\n"
          ]
        }
      ]
    },
    {
      "cell_type": "code",
      "source": [
        "frase = input('Insira uma frase: ')\n",
        "print(frase.replace('a', '@'))"
      ],
      "metadata": {
        "colab": {
          "base_uri": "https://localhost:8080/"
        },
        "id": "Dy5ZA7fhuoEa",
        "outputId": "bc0de81b-9d10-4a4e-e103-bbe887086bea"
      },
      "execution_count": 17,
      "outputs": [
        {
          "output_type": "stream",
          "name": "stdout",
          "text": [
            "Insira uma frase: Espero que o clima fique mais equilibrado.\n",
            "Espero que o clim@ fique m@is equilibr@do.\n"
          ]
        }
      ]
    },
    {
      "cell_type": "code",
      "source": [],
      "metadata": {
        "id": "xOse0tQdushD"
      },
      "execution_count": null,
      "outputs": []
    }
  ]
}