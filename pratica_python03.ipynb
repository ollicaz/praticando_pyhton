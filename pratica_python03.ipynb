{
  "nbformat": 4,
  "nbformat_minor": 0,
  "metadata": {
    "colab": {
      "provenance": []
    },
    "kernelspec": {
      "name": "python3",
      "display_name": "Python 3"
    },
    "language_info": {
      "name": "python"
    }
  },
  "cells": [
    {
      "cell_type": "markdown",
      "source": [
        "Estruturas de repetição"
      ],
      "metadata": {
        "id": "3z6SqKXiJv8K"
      }
    },
    {
      "cell_type": "code",
      "execution_count": 7,
      "metadata": {
        "colab": {
          "base_uri": "https://localhost:8080/"
        },
        "id": "XifJHtQoBOSH",
        "outputId": "b63d6ff1-44f0-4f2c-ac96-1bf50edaff1e"
      },
      "outputs": [
        {
          "output_type": "stream",
          "name": "stdout",
          "text": [
            "Digite um número: 5\n",
            "Digite outro número: 30\n",
            "5\n",
            "6\n",
            "7\n",
            "8\n",
            "9\n",
            "10\n",
            "11\n",
            "12\n",
            "13\n",
            "14\n",
            "15\n",
            "16\n",
            "17\n",
            "18\n",
            "19\n",
            "20\n",
            "21\n",
            "22\n",
            "23\n",
            "24\n",
            "25\n",
            "26\n",
            "27\n",
            "28\n",
            "29\n",
            "30\n"
          ]
        }
      ],
      "source": [
        "numero1 = int(input('Digite um número: '))\n",
        "numero2 = int(input('Digite outro número: '))\n",
        "\n",
        "for numero in range(numero1, numero2 + 1):\n",
        "  print(numero)"
      ]
    },
    {
      "cell_type": "code",
      "source": [
        "colonia_a = 4\n",
        "colonia_b = 10\n",
        "taxa_a = 0.03\n",
        "taxa_b = 0.015\n",
        "dias = 0\n",
        "\n",
        "while colonia_a <= colonia_b:\n",
        "  colonia_a = colonia_a + (colonia_a * taxa_a)\n",
        "  colonia_b = colonia_b + (colonia_b * taxa_b)\n",
        "  dias += 1\n",
        "\n",
        "print(f'Serão necessários {dias} dias para o crescimento da colônia A ultrapassar a B')"
      ],
      "metadata": {
        "colab": {
          "base_uri": "https://localhost:8080/"
        },
        "id": "iz2zU-iMCA9K",
        "outputId": "0a20fb49-63d9-4b27-d427-ad81794e632a"
      },
      "execution_count": 8,
      "outputs": [
        {
          "output_type": "stream",
          "name": "stdout",
          "text": [
            "Serão necessários 63 dias para o crescimento da colônia A ultrapassar a B\n"
          ]
        }
      ]
    },
    {
      "cell_type": "code",
      "source": [
        "for nota in range(1,16):\n",
        "  while True:\n",
        "    avaliacao = int(input('Digite sua avaliacao: '))\n",
        "    if avaliacao >= 0 and avaliacao <= 5:\n",
        "      print(avaliacao)\n",
        "      break\n",
        "    else:\n",
        "      print('Insira um valor válido')"
      ],
      "metadata": {
        "colab": {
          "base_uri": "https://localhost:8080/"
        },
        "id": "MgbuimzjClMZ",
        "outputId": "56437161-db3b-4792-dc1c-baf92c874771"
      },
      "execution_count": 19,
      "outputs": [
        {
          "output_type": "stream",
          "name": "stdout",
          "text": [
            "Digite sua avaliacao: 4\n",
            "4\n",
            "Digite sua avaliacao: 4\n",
            "4\n",
            "Digite sua avaliacao: 4\n",
            "4\n",
            "Digite sua avaliacao: 4\n",
            "4\n",
            "Digite sua avaliacao: 4\n",
            "4\n",
            "Digite sua avaliacao: 4\n",
            "4\n",
            "Digite sua avaliacao: 4\n",
            "4\n",
            "Digite sua avaliacao: 4\n",
            "4\n",
            "Digite sua avaliacao: 4\n",
            "4\n",
            "Digite sua avaliacao: 4\n",
            "4\n",
            "Digite sua avaliacao: 4\n",
            "4\n",
            "Digite sua avaliacao: 4\n",
            "4\n",
            "Digite sua avaliacao: 4\n",
            "4\n",
            "Digite sua avaliacao: 4\n",
            "4\n",
            "Digite sua avaliacao: 6\n",
            "Insira um valor válido\n",
            "Digite sua avaliacao: 8\n",
            "Insira um valor válido\n",
            "Digite sua avaliacao: 9\n",
            "Insira um valor válido\n",
            "Digite sua avaliacao: 5\n",
            "5\n"
          ]
        }
      ]
    },
    {
      "cell_type": "code",
      "source": [
        "temperatura = float(input('Insira a temperatura: '))\n",
        "contador = 0\n",
        "soma = 0\n",
        "\n",
        "while temperatura != -273:\n",
        "  soma += temperatura\n",
        "  contador += 1\n",
        "  temperatura = float(input('Insira uma temperatura: '))\n",
        "\n",
        "media = soma / contador\n",
        "print(f'A média das temperaturas é: {media}')"
      ],
      "metadata": {
        "colab": {
          "base_uri": "https://localhost:8080/"
        },
        "id": "EkCJGD0DG_Fq",
        "outputId": "488682bb-343a-406f-c500-a23d79420f41"
      },
      "execution_count": 25,
      "outputs": [
        {
          "output_type": "stream",
          "name": "stdout",
          "text": [
            "Insira a temperatura: 25\n",
            "Insira uma temperatura: 38\n",
            "Insira uma temperatura: 14\n",
            "Insira uma temperatura: 15\n",
            "Insira uma temperatura: -273\n",
            "A média das temperaturas é: 23.0\n"
          ]
        }
      ]
    },
    {
      "cell_type": "code",
      "source": [
        "numero_fatorado = int(input('Digite o número a ser fatorado: '))\n",
        "fator = 1\n",
        "contador = numero_fatorado\n",
        "\n",
        "while contador > 0:\n",
        "  fator *= contador\n",
        "  contador -= 1\n",
        "\n",
        "  print(f'O fatorial de {numero_fatorado} é {fator}')"
      ],
      "metadata": {
        "colab": {
          "base_uri": "https://localhost:8080/"
        },
        "id": "L6rHPNhHKWtJ",
        "outputId": "473fc467-6035-4e4d-df2e-128ebc494d35"
      },
      "execution_count": 29,
      "outputs": [
        {
          "output_type": "stream",
          "name": "stdout",
          "text": [
            "Digite o número a ser fatorado: 5\n",
            "O fatorial de 5 é 5\n",
            "O fatorial de 5 é 20\n",
            "O fatorial de 5 é 60\n",
            "O fatorial de 5 é 120\n",
            "O fatorial de 5 é 120\n"
          ]
        }
      ]
    },
    {
      "cell_type": "code",
      "source": [
        "numero_tabuada = int(input('Insira o número que quer calcular (de 0  a 10): '))\n",
        "print(f'Tabuada do {numero_tabuada}')\n",
        "\n",
        "for numero in range(1, 11):\n",
        "  resultado = numero_tabuada * numero\n",
        "  print(f'{numero_tabuada} x {numero} = {resultado}')"
      ],
      "metadata": {
        "colab": {
          "base_uri": "https://localhost:8080/"
        },
        "id": "S44oRS9HQE5T",
        "outputId": "21350587-cd0a-4c06-ac84-aa86a2bf9037"
      },
      "execution_count": 40,
      "outputs": [
        {
          "output_type": "stream",
          "name": "stdout",
          "text": [
            "Insira o número que quer calcular (de 0  a 10): 5\n",
            "Tabuada do 5\n",
            "5 x 1 = 5\n",
            "5 x 2 = 10\n",
            "5 x 3 = 15\n",
            "5 x 4 = 20\n",
            "5 x 5 = 25\n",
            "5 x 6 = 30\n",
            "5 x 7 = 35\n",
            "5 x 8 = 40\n",
            "5 x 9 = 45\n",
            "5 x 10 = 50\n"
          ]
        }
      ]
    },
    {
      "cell_type": "code",
      "source": [
        "numero = int(input('Insira seu número: '))\n",
        "\n",
        "primo = True\n",
        "\n",
        "if numero <= 1:\n",
        "  primo = False\n",
        "else:\n",
        "  for divisor in range(2, numero):\n",
        "    if numero % divisor == 0:\n",
        "      primo = False\n",
        "      break\n",
        "\n",
        "if primo:\n",
        "  print(f'O número {numero} é primo')\n",
        "else:\n",
        "  print(f'O número {numero} não é primo')\n"
      ],
      "metadata": {
        "colab": {
          "base_uri": "https://localhost:8080/"
        },
        "id": "NVM90Vc8SLIp",
        "outputId": "e79a5629-1489-44b9-9339-88a15fdc4dc7"
      },
      "execution_count": 46,
      "outputs": [
        {
          "output_type": "stream",
          "name": "stdout",
          "text": [
            "Insira seu número: 9\n",
            "O número 9 não é primo\n"
          ]
        }
      ]
    },
    {
      "cell_type": "code",
      "source": [
        "idades = int(input('Insira as idades dos pensionistas: '))\n",
        "contador_0_25 = 0\n",
        "contador_26_50 = 0\n",
        "contador_51_75 = 0\n",
        "contador_76_100 = 0\n",
        "\n",
        "while idades >= 0:\n",
        "  if idades >= 0 and idades <= 25:\n",
        "    contador_0_25 += 1\n",
        "  elif idades >= 26 and idades <= 50:\n",
        "    contador_26_50 += 1\n",
        "  elif idades >= 51 and idades <= 75:\n",
        "    contador_51_75 += 1\n",
        "  elif idades >= 76 and idades <= 100:\n",
        "    contador_76_100 += 1\n",
        "\n",
        "  idades = int(input('Insira as idades dos pensionistas: '))\n",
        "\n",
        "print('Distribuição de idades:')\n",
        "print('[0-25]:', contador_0_25)\n",
        "print('[26-50]:', contador_26_50)\n",
        "print('[51-75]:', contador_51_75)\n",
        "print('[76-100]:', contador_76_100)"
      ],
      "metadata": {
        "colab": {
          "base_uri": "https://localhost:8080/"
        },
        "id": "jh_eAh8nVfpM",
        "outputId": "7e517add-ce0f-4306-eed8-6e9dab1035d9"
      },
      "execution_count": 47,
      "outputs": [
        {
          "output_type": "stream",
          "name": "stdout",
          "text": [
            "Insira as idades dos pensionistas: 45\n",
            "Insira as idades dos pensionistas: 22\n",
            "Insira as idades dos pensionistas: 69\n",
            "Insira as idades dos pensionistas: -5\n",
            "Distribuição de idades:\n",
            "[0-25]: 1\n",
            "[26-50]: 1\n",
            "[51-75]: 1\n",
            "[76-100]: 0\n"
          ]
        }
      ]
    },
    {
      "cell_type": "code",
      "source": [
        "candidato1 = 0\n",
        "candidato2 = 0\n",
        "candidato3 = 0\n",
        "candidato4 = 0\n",
        "candidato5 = 0\n",
        "voto_nulo = 0\n",
        "\n",
        "for pessoa in range(1, 21):\n",
        "  voto = int(input('Digite em quem você quer votar: '))\n",
        "  if voto == 1:\n",
        "    candidato1 += 1\n",
        "  elif voto == 2:\n",
        "    candidato2 += 1\n",
        "  elif voto == 3:\n",
        "    candidato3 += 1\n",
        "  elif voto == 4:\n",
        "    candidato4 += 1\n",
        "  elif voto == 5:\n",
        "    candidato5 += 1\n",
        "  elif voto == 6:\n",
        "    voto_nulo += 1\n",
        "  else:\n",
        "    print('Voto inválido')\n",
        "\n",
        "print('Resultado da eleição')\n",
        "print('Candidato 1:', candidato1)\n",
        "print('Candidato 2:', candidato2)\n",
        "print('Candidato 3:', candidato3)\n",
        "print('Candidato 4:', candidato4)\n",
        "print('Candidato 5:', candidato5)\n",
        "print('Votos Nulos:', voto_nulo)\n",
        "print(f'Percentual de votos nulos: {(voto_nulo / 20 * 100)}')\n",
        "\n",
        "\n"
      ],
      "metadata": {
        "colab": {
          "base_uri": "https://localhost:8080/"
        },
        "id": "egoig2HemIfe",
        "outputId": "4fc22a23-8255-4302-e190-5bddb8fc2559"
      },
      "execution_count": 53,
      "outputs": [
        {
          "output_type": "stream",
          "name": "stdout",
          "text": [
            "Digite em quem você quer votar: 5\n",
            "Digite em quem você quer votar: 6\n",
            "Digite em quem você quer votar: 3\n",
            "Digite em quem você quer votar: 2\n",
            "Digite em quem você quer votar: 1\n",
            "Digite em quem você quer votar: 4\n",
            "Digite em quem você quer votar: 5\n",
            "Digite em quem você quer votar: 2\n",
            "Digite em quem você quer votar: 3\n",
            "Digite em quem você quer votar: 6\n",
            "Digite em quem você quer votar: 5\n",
            "Digite em quem você quer votar: 2\n",
            "Digite em quem você quer votar: 1\n",
            "Digite em quem você quer votar: 4\n",
            "Digite em quem você quer votar: 5\n",
            "Digite em quem você quer votar: 6\n",
            "Digite em quem você quer votar: 3\n",
            "Digite em quem você quer votar: 2\n",
            "Digite em quem você quer votar: 5\n",
            "Digite em quem você quer votar: 4\n",
            "Resultado da eleição\n",
            "Candidato 1: 2\n",
            "Candidato 2: 4\n",
            "Candidato 3: 3\n",
            "Candidato 4: 3\n",
            "Candidato 5: 5\n",
            "Votos Nulos: 3\n",
            "Percentual de votos nulos: 15.0\n"
          ]
        }
      ]
    },
    {
      "cell_type": "code",
      "source": [
        "1"
      ],
      "metadata": {
        "id": "JJ-GpXxSqdQw"
      },
      "execution_count": null,
      "outputs": []
    }
  ]
}